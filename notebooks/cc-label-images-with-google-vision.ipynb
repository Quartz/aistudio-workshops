{
 "cells": [
  {
   "cell_type": "markdown",
   "metadata": {},
   "source": [
    "# Getting image insights with Google's Vision AI"
   ]
  },
  {
   "cell_type": "markdown",
   "metadata": {},
   "source": [
    "## Overview\n",
    "\n",
    "Given a folder full of images, we want a list of descriptions of each image – and we'll use an online service to get those descriptions.\n",
    "\n",
    "\n",
    "## The Plan\n",
    "\n",
    "Our steps will be:\n",
    "\n",
    "1. Load some test images\n",
    "1. Send one image to the Google Vision API\n",
    "1. Dissect the response for that image\n",
    "1. Send several images to the Google Vision API \n",
    "1. Generate a list of images and their contents"
   ]
  },
  {
   "cell_type": "markdown",
   "metadata": {},
   "source": [
    "## Credits\n",
    "\n",
    "The code in this notebook was written by John Keefe at [Quartz](https://qz.com)."
   ]
  },
  {
   "cell_type": "markdown",
   "metadata": {},
   "source": [
    "## Setup"
   ]
  },
  {
   "cell_type": "markdown",
   "metadata": {},
   "source": [
    "### Using an online service\n",
    "\n",
    "Instead of downloading and using a pretrained model, as described in the notebook `bb-label-images-with-resnet.ipynb`, we can send each image to an online service to detect the contents. There are several available, and in this case we'll use [Google's Vision AI](https://cloud.google.com/vision/) service. \n",
    "\n",
    "These services generally allow you to try _some_ images for free, and then you must pay for any over that limit. As of this writing, Google Vision allows you to do 1,000 checks in a month for free. [The full price list is here](https://cloud.google.com/vision/pricing).\n",
    "\n",
    "Because you _could_ go over the limit, Google requires a credit card on file before you may use this service – even if you're not yet over the free limit. \n",
    "\n",
    "In exchange, you get an API key, which looks like someone smashed away on a keyboard: `LKjldSLKfivvl384Ls0409Sloo...`\n",
    "\n",
    "You need an API key to use this notebook! To get a key, follow the instructions in Video 5."
   ]
  },
  {
   "cell_type": "markdown",
   "metadata": {},
   "source": [
    "### For those using Google Colaboratory ...\n",
    "\n",
    "Be aware that Google Colab instances are ephemeral -- they vanish *Poof* when you close them, or after a period of sitting idle (currently 90 minutes), or if you use one for more than 12 hours.\n",
    "\n",
    "Also note that although we are using two Google services – Colaboratory and Vision AI – I'm treating them as completely separate. So we actually communicate between the two services the same way we would communicate from any computer to Vision AI."
   ]
  },
  {
   "cell_type": "markdown",
   "metadata": {},
   "source": [
    "### Everybody do this ..."
   ]
  },
  {
   "cell_type": "markdown",
   "metadata": {},
   "source": [
    "Everyone needs to run the next cell, which installs and initializes the Python libraries we'll use in this notebook."
   ]
  },
  {
   "cell_type": "code",
   "execution_count": null,
   "metadata": {
    "collapsed": true,
    "jupyter": {
     "outputs_hidden": true
    }
   },
   "outputs": [],
   "source": [
    "## *EVERYBODY* SHOULD RUN THIS CELL\n",
    "!pip install Pillow --quiet\n",
    "!pip install requests --quiet\n",
    "\n",
    "import os\n",
    "import json\n",
    "import requests\n",
    "import base64\n",
    "from PIL import Image\n",
    "from IPython.display import display\n",
    "from IPython.display import Image as Show"
   ]
  },
  {
   "cell_type": "markdown",
   "metadata": {},
   "source": [
    "### Your API key goes here\n",
    "\n",
    "As mentioned above, you'll need to get an API key. Video 5 has the details on how to get that key from Google.\n",
    "\n",
    "Once you have a key, replace `XXXXX` with your key in the next cell and run it."
   ]
  },
  {
   "cell_type": "code",
   "execution_count": null,
   "metadata": {
    "collapsed": true,
    "jupyter": {
     "outputs_hidden": true
    }
   },
   "outputs": [],
   "source": [
    "# Replace the XXXXX in the next line with your API key (keep the quotes!):\n",
    "YOUR_API_KEY = 'XXXXX'"
   ]
  },
  {
   "cell_type": "markdown",
   "metadata": {},
   "source": [
    "## The Data"
   ]
  },
  {
   "cell_type": "markdown",
   "metadata": {},
   "source": [
    "We're going to download some data for this notebook:\n",
    "\n",
    "- A folder containing some **pictures**. These are just pictures I took."
   ]
  },
  {
   "cell_type": "code",
   "execution_count": null,
   "metadata": {
    "collapsed": true,
    "jupyter": {
     "outputs_hidden": true
    }
   },
   "outputs": [],
   "source": [
    "# Run this cell to download the data we'll use for this exercise\n",
    "!wget -N https://qz-aistudio-public.s3.amazonaws.com/workshops/labelling_images_data.zip --quiet\n",
    "!unzip -q labelling_images_data.zip\n",
    "print('Done!')"
   ]
  },
  {
   "cell_type": "code",
   "execution_count": null,
   "metadata": {
    "collapsed": true,
    "jupyter": {
     "outputs_hidden": true
    }
   },
   "outputs": [],
   "source": [
    "data_path ='./data/'"
   ]
  },
  {
   "cell_type": "markdown",
   "metadata": {},
   "source": [
    "We can look at the data on the computer we're using by using the `ls` command:"
   ]
  },
  {
   "cell_type": "code",
   "execution_count": null,
   "metadata": {
    "collapsed": true,
    "jupyter": {
     "outputs_hidden": true
    }
   },
   "outputs": [],
   "source": [
    "%ls data/"
   ]
  },
  {
   "cell_type": "code",
   "execution_count": null,
   "metadata": {
    "collapsed": true,
    "jupyter": {
     "outputs_hidden": true
    }
   },
   "outputs": [],
   "source": [
    "%ls data/images"
   ]
  },
  {
   "cell_type": "code",
   "execution_count": null,
   "metadata": {
    "collapsed": true,
    "jupyter": {
     "outputs_hidden": true
    }
   },
   "outputs": [],
   "source": [
    "Show(data_path + 'images/boat2.jpg', width=600)"
   ]
  },
  {
   "cell_type": "code",
   "execution_count": null,
   "metadata": {
    "collapsed": true,
    "jupyter": {
     "outputs_hidden": true
    }
   },
   "outputs": [],
   "source": [
    "# Here we open our boat file and convert it into image data text (called base-64-encoded text)\n",
    "with open(data_path + 'images/boat2.jpg', \"rb\") as my_image:\n",
    "    my_image_data = str(base64.b64encode(my_image.read()).decode(\"utf-8\"))"
   ]
  },
  {
   "cell_type": "code",
   "execution_count": null,
   "metadata": {
    "collapsed": true,
    "jupyter": {
     "outputs_hidden": true
    }
   },
   "outputs": [],
   "source": [
    "# Want to see what an image \"looks\" like in base-64 text???\n",
    "my_image_data"
   ]
  },
  {
   "cell_type": "markdown",
   "metadata": {},
   "source": [
    "## Send our image to Google Vision AI"
   ]
  },
  {
   "cell_type": "markdown",
   "metadata": {},
   "source": [
    "Next, we need construct a \"payload\" to send to Google Vision AI. [The format for building this payload is in the google documentation](https://cloud.google.com/vision/docs/request) if you'd like to read more. But we'll walk through a simple case now.\n",
    "\n",
    "For our first payload, we'll send the image (as text) and a request for \"LABEL_DETECTION.\""
   ]
  },
  {
   "cell_type": "code",
   "execution_count": null,
   "metadata": {
    "collapsed": true,
    "jupyter": {
     "outputs_hidden": true
    }
   },
   "outputs": [],
   "source": [
    "# Establish the payload, which includes our image data as a long string of text\n",
    "google_vision_payload = {\n",
    "    'requests':[\n",
    "        {\n",
    "            'image':{\n",
    "                'content': my_image_data\n",
    "            },\n",
    "            'features':[\n",
    "                {\n",
    "                    'type':'LABEL_DETECTION'\n",
    "                },\n",
    "            ]\n",
    "        }\n",
    "    ]\n",
    "}"
   ]
  },
  {
   "cell_type": "code",
   "execution_count": null,
   "metadata": {
    "collapsed": true,
    "jupyter": {
     "outputs_hidden": true
    }
   },
   "outputs": [],
   "source": [
    "# Now we'll build the URL to hit, which includes your Google Vision API key.\n",
    "google_vision_url = 'https://vision.googleapis.com/v1/images:annotate?key=' + YOUR_API_KEY"
   ]
  },
  {
   "cell_type": "code",
   "execution_count": null,
   "metadata": {
    "collapsed": true,
    "jupyter": {
     "outputs_hidden": true
    }
   },
   "outputs": [],
   "source": [
    "# And then we ship our boat (in the payload) to that URL\n",
    "web_request = requests.post(google_vision_url, json=google_vision_payload)"
   ]
  },
  {
   "cell_type": "markdown",
   "metadata": {},
   "source": [
    "The `web_request` now contains a lot of stuff in it. Let's pull it apart a little."
   ]
  },
  {
   "cell_type": "code",
   "execution_count": null,
   "metadata": {
    "collapsed": true,
    "jupyter": {
     "outputs_hidden": true
    }
   },
   "outputs": [],
   "source": [
    "# This line lets us know how hitting Google Vision AI worked. Code \"200\" is what we want\n",
    "web_request.status_code"
   ]
  },
  {
   "cell_type": "markdown",
   "metadata": {},
   "source": [
    "Let's take a look at what we got from Google."
   ]
  },
  {
   "cell_type": "code",
   "execution_count": null,
   "metadata": {
    "collapsed": true,
    "jupyter": {
     "outputs_hidden": true
    }
   },
   "outputs": [],
   "source": [
    "google_guess = web_request.json() # turns the web_request into JSON\n",
    "google_guess['responses']         # let's look at the \"responses\" part"
   ]
  },
  {
   "cell_type": "code",
   "execution_count": null,
   "metadata": {
    "collapsed": true,
    "jupyter": {
     "outputs_hidden": true
    }
   },
   "outputs": [],
   "source": [
    "google_guess['responses'][0]['labelAnnotations']"
   ]
  },
  {
   "cell_type": "code",
   "execution_count": null,
   "metadata": {
    "collapsed": true,
    "jupyter": {
     "outputs_hidden": true
    }
   },
   "outputs": [],
   "source": [
    "google_guess['responses'][0]['labelAnnotations'][0]"
   ]
  },
  {
   "cell_type": "code",
   "execution_count": null,
   "metadata": {
    "collapsed": true,
    "jupyter": {
     "outputs_hidden": true
    }
   },
   "outputs": [],
   "source": [
    "google_guess['responses'][0]['labelAnnotations'][0]['description']"
   ]
  },
  {
   "cell_type": "markdown",
   "metadata": {},
   "source": [
    "We can also ask for a different features, such as [text detection](https://cloud.google.com/vision/docs/ocr). (Note that there's a different version to use if you're looking for [text in images of documents](https://cloud.google.com/vision/docs/ocr)."
   ]
  },
  {
   "cell_type": "code",
   "execution_count": null,
   "metadata": {
    "collapsed": true,
    "jupyter": {
     "outputs_hidden": true
    }
   },
   "outputs": [],
   "source": [
    "# Again, we build the payload but use \"TEXT_DETECTION\" instead ...\n",
    "google_vision_payload = {\n",
    "    'requests':[\n",
    "        {\n",
    "            'image':{\n",
    "                'content': my_image_data\n",
    "            },\n",
    "            'features':[\n",
    "                {\n",
    "                    'type':'TEXT_DETECTION'\n",
    "                }\n",
    "            ]\n",
    "        }\n",
    "    ]\n",
    "}"
   ]
  },
  {
   "cell_type": "code",
   "execution_count": null,
   "metadata": {
    "collapsed": true,
    "jupyter": {
     "outputs_hidden": true
    }
   },
   "outputs": [],
   "source": [
    "# And we hit the URL we provided above, but with this new payload\n",
    "web_request = requests.post(google_vision_url, json=google_vision_payload)"
   ]
  },
  {
   "cell_type": "code",
   "execution_count": null,
   "metadata": {
    "collapsed": true,
    "jupyter": {
     "outputs_hidden": true
    }
   },
   "outputs": [],
   "source": [
    "web_request.status_code"
   ]
  },
  {
   "cell_type": "code",
   "execution_count": null,
   "metadata": {
    "collapsed": true,
    "jupyter": {
     "outputs_hidden": true
    }
   },
   "outputs": [],
   "source": [
    "google_guess = web_request.json()"
   ]
  },
  {
   "cell_type": "code",
   "execution_count": null,
   "metadata": {
    "collapsed": true,
    "jupyter": {
     "outputs_hidden": true
    }
   },
   "outputs": [],
   "source": [
    "google_guess['responses'][0]['textAnnotations']"
   ]
  },
  {
   "cell_type": "code",
   "execution_count": null,
   "metadata": {
    "collapsed": true,
    "jupyter": {
     "outputs_hidden": true
    }
   },
   "outputs": [],
   "source": [
    "google_guess['responses'][0]['fullTextAnnotation']['text']"
   ]
  },
  {
   "cell_type": "markdown",
   "metadata": {},
   "source": [
    "We can also ask for what Google calls \"[web detection](https://cloud.google.com/vision/docs/detecting-web)\", which pulls information from it's vast knowledge of the internet to try to get more information about the image."
   ]
  },
  {
   "cell_type": "code",
   "execution_count": null,
   "metadata": {
    "collapsed": true,
    "jupyter": {
     "outputs_hidden": true
    },
    "scrolled": true
   },
   "outputs": [],
   "source": [
    "# Here we'll ask for \"WEB_DETECTION\" and just one result ('maxResults':1)\n",
    "google_vision_payload = {\n",
    "    'requests':[\n",
    "        {\n",
    "            'image':{\n",
    "                'content': my_image_data\n",
    "            },\n",
    "            'features':[\n",
    "                {\n",
    "                    'type':'WEB_DETECTION',\n",
    "                    'maxResults':1\n",
    "                },\n",
    "            ]\n",
    "        }\n",
    "    ]\n",
    "}"
   ]
  },
  {
   "cell_type": "code",
   "execution_count": null,
   "metadata": {
    "collapsed": true,
    "jupyter": {
     "outputs_hidden": true
    }
   },
   "outputs": [],
   "source": [
    "# And we hit the URL we provided above, but with this new payload\n",
    "web_request = requests.post(google_vision_url, json=google_vision_payload)\n",
    "google_guess = web_request.json()"
   ]
  },
  {
   "cell_type": "code",
   "execution_count": null,
   "metadata": {
    "collapsed": true,
    "jupyter": {
     "outputs_hidden": true
    }
   },
   "outputs": [],
   "source": [
    "google_guess['responses'][0]"
   ]
  },
  {
   "cell_type": "code",
   "execution_count": null,
   "metadata": {
    "collapsed": true,
    "jupyter": {
     "outputs_hidden": true
    }
   },
   "outputs": [],
   "source": [
    "google_guess['responses'][0]['webDetection']['webEntities'][0]['description']"
   ]
  },
  {
   "cell_type": "markdown",
   "metadata": {},
   "source": [
    "## Processing a set of images"
   ]
  },
  {
   "cell_type": "markdown",
   "metadata": {},
   "source": [
    "Let's get some images! (Pretend there are 8,000 instead of 8.)"
   ]
  },
  {
   "cell_type": "code",
   "execution_count": null,
   "metadata": {
    "collapsed": true,
    "jupyter": {
     "outputs_hidden": true
    }
   },
   "outputs": [],
   "source": [
    "image_files = os.listdir(data_path + 'images')\n",
    "image_files"
   ]
  },
  {
   "cell_type": "code",
   "execution_count": null,
   "metadata": {
    "collapsed": true,
    "jupyter": {
     "outputs_hidden": true
    }
   },
   "outputs": [],
   "source": [
    "# Loop through the list of files\n",
    "\n",
    "category_list=[]\n",
    "\n",
    "for file in image_files:\n",
    "    \n",
    "    # open a file and convert it into image data text\n",
    "    with open(data_path + 'images/' + file, \"rb\") as my_image:\n",
    "        my_image_data = str(base64.b64encode(my_image.read()).decode(\"utf-8\"))\n",
    "        \n",
    "    # set up the google vision payload, including the image data text\n",
    "    google_vision_payload = {\n",
    "        'requests':[\n",
    "            {\n",
    "                'image':{\n",
    "                    'content': my_image_data\n",
    "                },\n",
    "                'features':[\n",
    "                    {\n",
    "                        'type':'WEB_DETECTION',\n",
    "                        'maxResults':1\n",
    "                    },\n",
    "                ]\n",
    "            }\n",
    "        ]\n",
    "    }\n",
    "    \n",
    "    # hit the google vision api\n",
    "    web_request = requests.post(google_vision_url, json=google_vision_payload)\n",
    "    google_guess = web_request.json()\n",
    "    \n",
    "    # from the goole response, pull out the webEntity description \n",
    "    category = google_guess['responses'][0]['webDetection']['webEntities'][0]['description']\n",
    "    \n",
    "    # add this category to the category list\n",
    "    category_list.append(category)\n",
    "    \n",
    "    # print the file name and the category guess\n",
    "    print(file, category)\n",
    "    "
   ]
  },
  {
   "cell_type": "code",
   "execution_count": null,
   "metadata": {
    "collapsed": true,
    "jupyter": {
     "outputs_hidden": true
    }
   },
   "outputs": [],
   "source": [
    "# let's loop through all the images we have and display the\n",
    "# category Google thinks it falls into\n",
    "\n",
    "for i, file in enumerate(image_files):\n",
    "  image_filename = data_path + 'images/' + file\n",
    "  print(f'\\n{category_list[i]}')\n",
    "  display(Show(filename=image_filename, retina=True))"
   ]
  },
  {
   "cell_type": "markdown",
   "metadata": {},
   "source": [
    "### Extra Challenge\n",
    "\n",
    "Even more useful would be to save this list as a file! If you're comfortable with Python, you should be able to pull that off pretty easily."
   ]
  },
  {
   "cell_type": "markdown",
   "metadata": {},
   "source": [
    "## Google Vision Pricing\n",
    "\n",
    "You can get categories for 1,000 images for free and 10,000 images for $15.00. [Check out the pricing info](https://cloud.google.com/vision/pricing)."
   ]
  }
 ],
 "metadata": {
  "kernelspec": {
   "display_name": "Python 3",
   "language": "python",
   "name": "python3"
  },
  "language_info": {
   "codemirror_mode": {
    "name": "ipython",
    "version": 3
   },
   "file_extension": ".py",
   "mimetype": "text/x-python",
   "name": "python",
   "nbconvert_exporter": "python",
   "pygments_lexer": "ipython3",
   "version": "3.7.7"
  }
 },
 "nbformat": 4,
 "nbformat_minor": 4
}
